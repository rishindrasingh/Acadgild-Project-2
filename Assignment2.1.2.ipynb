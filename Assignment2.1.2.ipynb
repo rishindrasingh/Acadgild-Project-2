{
 "cells": [
  {
   "cell_type": "code",
   "execution_count": 1,
   "metadata": {
    "collapsed": true
   },
   "outputs": [],
   "source": [
    "import pandas as pd\n",
    "import numpy as np"
   ]
  },
  {
   "cell_type": "code",
   "execution_count": 1,
   "metadata": {},
   "outputs": [
    {
     "name": "stdout",
     "output_type": "stream",
     "text": [
      "Moving average of the list is  [3.75, 3.5, 4.25, 5.0, 7.25, 21.5, 37.0, 54.5, 63.0, 70.0, 87.25]\n"
     ]
    }
   ],
   "source": [
    "mylist = [3,5,7,2,8,10,11,65,72,81,99,100,150]\n",
    "cumsum=0\n",
    "n=len(mylist)\n",
    "moving_ave = []\n",
    "k=3\n",
    "j=0\n",
    "i=0\n",
    "l=n-k+1\n",
    "while(i<l):\n",
    "    for n in range(j,j+k):\n",
    "        cumsum= cumsum + mylist[n]\n",
    "    \n",
    "    cumsum=cumsum/4\n",
    "    moving_ave.append(cumsum)\n",
    "    cumsum=0\n",
    "    j+=1\n",
    "    i+=1\n",
    "\n",
    "print(\"Moving average of the list is \" , moving_ave)"
   ]
  },
  {
   "cell_type": "code",
   "execution_count": null,
   "metadata": {
    "collapsed": true
   },
   "outputs": [],
   "source": []
  }
 ],
 "metadata": {
  "kernelspec": {
   "display_name": "Python 3",
   "language": "python",
   "name": "python3"
  },
  "language_info": {
   "codemirror_mode": {
    "name": "ipython",
    "version": 3
   },
   "file_extension": ".py",
   "mimetype": "text/x-python",
   "name": "python",
   "nbconvert_exporter": "python",
   "pygments_lexer": "ipython3",
   "version": "3.6.3"
  }
 },
 "nbformat": 4,
 "nbformat_minor": 2
}
